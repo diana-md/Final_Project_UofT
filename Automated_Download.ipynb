{
 "cells": [
  {
   "cell_type": "code",
   "execution_count": 1,
   "metadata": {},
   "outputs": [],
   "source": [
    "from splinter import Browser\n",
    "import calendar\n",
    "import time\n",
    "import glob"
   ]
  },
  {
   "cell_type": "code",
   "execution_count": 2,
   "metadata": {},
   "outputs": [],
   "source": []
  },
  {
   "cell_type": "code",
   "execution_count": 1,
   "metadata": {},
   "outputs": [],
   "source": [
    "executable_path = {'executable_path': '/Users/dianadumitrascu/Downloads/chromedriver'}\n",
    "browser = Browser('chrome', **executable_path, headless=False)\n",
    "\n",
    "month_name = {k: v.lower() for k,v in enumerate(calendar.month_name)}\n",
    "for y in range(2018,2019):\n",
    "    for m in range (1,13):\n",
    "        url = f\"https://opendata.dc.gov/datasets/parking-violations-issued-in-{month_name[m]}-{y}\"\n",
    "        browser.visit(url)\n",
    "        try:\n",
    "            browser.find_by_text(\"Download\").click()\n",
    "        except:\n",
    "            continue\n",
    "        time.sleep(1)\n",
    "        try:\n",
    "            browser.find_link_by_text('Spreadsheet').click()\n",
    "        except:\n",
    "            continue\n",
    "        time.sleep(10)\n",
    "browser.quit()"
   ]
  },
  {
   "cell_type": "code",
   "execution_count": 2,
   "metadata": {},
   "outputs": [],
   "source": [
    "import os\n",
    "month_name = {k: v.lower() for k,v in enumerate(calendar.month_name)}\n",
    "month_year = []\n",
    "downloaded_csv = os.listdir(\"Manual and Automated Download\")\n",
    "for y in range(2009,2020):\n",
    "    for m in range(1,13):\n",
    "        file_name = f'{month_name[m].capitalize()}_{y}.csv'\n",
    "        if file_name not in downloaded_csv:\n",
    "            month_year.append([month_name[m],y])"
   ]
  },
  {
   "cell_type": "code",
   "execution_count": 25,
   "metadata": {},
   "outputs": [],
   "source": [
    "executable_path = {'executable_path': '/Users/dianadumitrascu/Downloads/chromedriver'}\n",
    "browser = Browser('chrome', **executable_path, headless=False)\n",
    "for date in month_year:\n",
    "    url = f\"https://opendata.dc.gov/datasets/parking-violations-issued-in-{date[0]}-{date[1]}\"\n",
    "    browser.visit(url)\n",
    "    try:\n",
    "        browser.find_by_text(\"Download\").click()\n",
    "    except:\n",
    "        continue\n",
    "    time.sleep(2)\n",
    "    try:\n",
    "        browser.find_link_by_text('Spreadsheet').click()\n",
    "    except:\n",
    "        continue\n",
    "    time.sleep(120)\n",
    "browser.quit()"
   ]
  },
  {
   "cell_type": "code",
   "execution_count": 26,
   "metadata": {},
   "outputs": [],
   "source": [
    "import os\n",
    "\n",
    "\n",
    "start = len(\"Parking_Violations_Issued_in_\")\n",
    "\n",
    "directory = \"/Users/dianadumitrascu/Documents/Bootcamp AI SpringBoard/BIG Project/Parking Violation/Manual and Automated Download\"\n",
    "for file in os.listdir(directory):\n",
    "    if 'Parking_Violations_Issued_in_' in file:\n",
    "        path = os.path.join(directory, file)\n",
    "        target = os.path.join(directory, file[start:])\n",
    "        os.rename(path, target)\n",
    "\n"
   ]
  },
  {
   "cell_type": "code",
   "execution_count": null,
   "metadata": {},
   "outputs": [],
   "source": []
  }
 ],
 "metadata": {
  "kernelspec": {
   "display_name": "Python [conda env:PythonData]",
   "language": "python",
   "name": "conda-env-PythonData-py"
  },
  "language_info": {
   "codemirror_mode": {
    "name": "ipython",
    "version": 3
   },
   "file_extension": ".py",
   "mimetype": "text/x-python",
   "name": "python",
   "nbconvert_exporter": "python",
   "pygments_lexer": "ipython3",
   "version": "3.6.7"
  }
 },
 "nbformat": 4,
 "nbformat_minor": 2
}
